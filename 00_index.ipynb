{
 "cells": [
  {
   "cell_type": "markdown",
   "metadata": {},
   "source": [
    "<img src='./img/jupyter_logo.png' align='right' width='30%'></img>"
   ]
  },
  {
   "cell_type": "markdown",
   "metadata": {},
   "source": [
    "# How to avoid `'death by Jupyter notebook'`"
   ]
  },
  {
   "cell_type": "markdown",
   "metadata": {},
   "source": [
    "### Towards more `effective` and `educational` notebooks\n",
    "\n",
    "\n",
    "#### Author\n",
    "* [Julia Wagemann](https://jwagemann.com) | Independent consultant and Phd student at University of Marburg\n",
    "\n",
    "#### Access to presentation material\n",
    "Notebooks are available on [GitHub](https://github.com/jwagemann/2020_jupytercon)."
   ]
  },
  {
   "cell_type": "markdown",
   "metadata": {},
   "source": [
    "<hr>"
   ]
  },
  {
   "cell_type": "markdown",
   "metadata": {},
   "source": [
    "## What is this talk about?"
   ]
  },
  {
   "cell_type": "markdown",
   "metadata": {},
   "source": [
    "This talk aims to advocate for more `educational` and `enjoyable` notebooks. Getting started with and using Jupyter Notebooks is easy and the sheer amount of Jupyter notebooks on Github is a testimony of it. However, just because one is using Jupyter notebooks does not mean that the workflow and code is understandable and structured at the same time. Making Jupyter notebooks more effective and educational for the community requires additional time, but with the help of key concepts it can easily be implemented. \n",
    "\n",
    "This talk aims to motivate you to go the extra mile and to contribute towards more effective and organised notebooks.\n"
   ]
  },
  {
   "cell_type": "markdown",
   "metadata": {},
   "source": [
    "## Outline"
   ]
  },
  {
   "cell_type": "markdown",
   "metadata": {},
   "source": [
    "This talk has the following outline:\n",
    "\n",
    "* [01 - Example - How to NOT do it](01_example_how_to_not_do_it.ipynb)\n",
    "* [02 - Jupyter Notebooks - Key concepts](02_jupyter_notebooks_key_concepts.ipynb)\n",
    "* [03 - Functions example](functions.ipynb)"
   ]
  },
  {
   "cell_type": "markdown",
   "metadata": {},
   "source": [
    "<hr>\n",
    "&copy; 2020 | Julia Wagemann\n",
    "<a rel=\"license\" href=\"http://creativecommons.org/licenses/by/4.0/\"><img style=\"float: right\" alt=\"Creative Commons Lizenzvertrag\" style=\"border-width:0\" src=\"https://i.creativecommons.org/l/by/4.0/88x31.png\" /></a>"
   ]
  }
 ],
 "metadata": {
  "kernelspec": {
   "display_name": "Python 3",
   "language": "python",
   "name": "python3"
  },
  "language_info": {
   "codemirror_mode": {
    "name": "ipython",
    "version": 3
   },
   "file_extension": ".py",
   "mimetype": "text/x-python",
   "name": "python",
   "nbconvert_exporter": "python",
   "pygments_lexer": "ipython3",
   "version": "3.7.0"
  }
 },
 "nbformat": 4,
 "nbformat_minor": 2
}
